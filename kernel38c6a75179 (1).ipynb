{
 "cells": [
  {
   "cell_type": "code",
   "execution_count": 1,
   "metadata": {
    "_cell_guid": "b1076dfc-b9ad-4769-8c92-a6c4dae69d19",
    "_uuid": "8f2839f25d086af736a60e9eeb907d3b93b6e0e5",
    "execution": {
     "iopub.execute_input": "2020-08-16T16:30:42.356717Z",
     "iopub.status.busy": "2020-08-16T16:30:42.355728Z",
     "iopub.status.idle": "2020-08-16T16:30:43.650819Z",
     "shell.execute_reply": "2020-08-16T16:30:43.649906Z"
    },
    "papermill": {
     "duration": 1.342305,
     "end_time": "2020-08-16T16:30:43.650966",
     "exception": false,
     "start_time": "2020-08-16T16:30:42.308661",
     "status": "completed"
    },
    "tags": []
   },
   "outputs": [],
   "source": [
    "import numpy as np\n",
    "import pandas as pd\n",
    "import matplotlib.pyplot as plt\n",
    "\n",
    "from sklearn import ensemble\n",
    "from matplotlib import style\n",
    "from sklearn.ensemble import VotingRegressor\n",
    "from sklearn.ensemble import RandomForestRegressor\n",
    "from sklearn.linear_model import LinearRegression\n",
    "from lightgbm import LGBMRegressor\n",
    "\n",
    "\n",
    "from sklearn.metrics import r2_score\n",
    "from sklearn.model_selection import train_test_split, KFold, GridSearchCV, cross_val_score\n",
    "\n",
    "style.use('fivethirtyeight')\n",
    "%matplotlib inline"
   ]
  },
  {
   "cell_type": "code",
   "execution_count": 2,
   "metadata": {
    "_cell_guid": "79c7e3d0-c299-4dcb-8224-4455121ee9b0",
    "_uuid": "d629ff2d2480ee46fbb7e2d37f6b5fab8052498a",
    "execution": {
     "iopub.execute_input": "2020-08-16T16:30:43.724286Z",
     "iopub.status.busy": "2020-08-16T16:30:43.723442Z",
     "iopub.status.idle": "2020-08-16T16:30:43.826986Z",
     "shell.execute_reply": "2020-08-16T16:30:43.826021Z"
    },
    "papermill": {
     "duration": 0.143916,
     "end_time": "2020-08-16T16:30:43.827181",
     "exception": false,
     "start_time": "2020-08-16T16:30:43.683265",
     "status": "completed"
    },
    "tags": []
   },
   "outputs": [
    {
     "name": "stdout",
     "output_type": "stream",
     "text": [
      "<class 'pandas.core.frame.DataFrame'>\n",
      "RangeIndex: 10000 entries, 0 to 9999\n",
      "Data columns (total 20 columns):\n",
      " #   Column         Non-Null Count  Dtype  \n",
      "---  ------         --------------  -----  \n",
      " 0   Id             10000 non-null  int64  \n",
      " 1   DistrictId     10000 non-null  int64  \n",
      " 2   Rooms          10000 non-null  float64\n",
      " 3   Square         10000 non-null  float64\n",
      " 4   LifeSquare     7887 non-null   float64\n",
      " 5   KitchenSquare  10000 non-null  float64\n",
      " 6   Floor          10000 non-null  int64  \n",
      " 7   HouseFloor     10000 non-null  float64\n",
      " 8   HouseYear      10000 non-null  int64  \n",
      " 9   Ecology_1      10000 non-null  float64\n",
      " 10  Ecology_2      10000 non-null  object \n",
      " 11  Ecology_3      10000 non-null  object \n",
      " 12  Social_1       10000 non-null  int64  \n",
      " 13  Social_2       10000 non-null  int64  \n",
      " 14  Social_3       10000 non-null  int64  \n",
      " 15  Healthcare_1   5202 non-null   float64\n",
      " 16  Helthcare_2    10000 non-null  int64  \n",
      " 17  Shops_1        10000 non-null  int64  \n",
      " 18  Shops_2        10000 non-null  object \n",
      " 19  Price          10000 non-null  float64\n",
      "dtypes: float64(8), int64(9), object(3)\n",
      "memory usage: 1.5+ MB\n"
     ]
    }
   ],
   "source": [
    "TRAIN_DATASET_PATH   = '../input/realestatepriceprediction/train.csv'\n",
    "TEST_DATASET_PATH  = '../input/realestatepriceprediction/test.csv'\n",
    "\n",
    "X_final = pd.read_csv(TEST_DATASET_PATH)\n",
    "X = pd.read_csv(TRAIN_DATASET_PATH)\n",
    "\n",
    "X.info()"
   ]
  },
  {
   "cell_type": "code",
   "execution_count": 3,
   "metadata": {
    "execution": {
     "iopub.execute_input": "2020-08-16T16:30:43.900644Z",
     "iopub.status.busy": "2020-08-16T16:30:43.899896Z",
     "iopub.status.idle": "2020-08-16T16:30:43.980882Z",
     "shell.execute_reply": "2020-08-16T16:30:43.980002Z"
    },
    "papermill": {
     "duration": 0.11892,
     "end_time": "2020-08-16T16:30:43.981042",
     "exception": false,
     "start_time": "2020-08-16T16:30:43.862122",
     "status": "completed"
    },
    "tags": []
   },
   "outputs": [
    {
     "data": {
      "text/html": [
       "<div>\n",
       "<style scoped>\n",
       "    .dataframe tbody tr th:only-of-type {\n",
       "        vertical-align: middle;\n",
       "    }\n",
       "\n",
       "    .dataframe tbody tr th {\n",
       "        vertical-align: top;\n",
       "    }\n",
       "\n",
       "    .dataframe thead th {\n",
       "        text-align: right;\n",
       "    }\n",
       "</style>\n",
       "<table border=\"1\" class=\"dataframe\">\n",
       "  <thead>\n",
       "    <tr style=\"text-align: right;\">\n",
       "      <th></th>\n",
       "      <th>Id</th>\n",
       "      <th>DistrictId</th>\n",
       "      <th>Rooms</th>\n",
       "      <th>Square</th>\n",
       "      <th>LifeSquare</th>\n",
       "      <th>KitchenSquare</th>\n",
       "      <th>Floor</th>\n",
       "      <th>HouseFloor</th>\n",
       "      <th>HouseYear</th>\n",
       "      <th>Ecology_1</th>\n",
       "      <th>Ecology_2</th>\n",
       "      <th>Ecology_3</th>\n",
       "      <th>Social_1</th>\n",
       "      <th>Social_2</th>\n",
       "      <th>Social_3</th>\n",
       "      <th>Healthcare_1</th>\n",
       "      <th>Helthcare_2</th>\n",
       "      <th>Shops_1</th>\n",
       "      <th>Shops_2</th>\n",
       "      <th>Price</th>\n",
       "    </tr>\n",
       "  </thead>\n",
       "  <tbody>\n",
       "    <tr>\n",
       "      <th>0</th>\n",
       "      <td>14038</td>\n",
       "      <td>35</td>\n",
       "      <td>2.0</td>\n",
       "      <td>47.981561</td>\n",
       "      <td>29.442751</td>\n",
       "      <td>6.0</td>\n",
       "      <td>7</td>\n",
       "      <td>9.0</td>\n",
       "      <td>1969</td>\n",
       "      <td>0.089040</td>\n",
       "      <td>B</td>\n",
       "      <td>B</td>\n",
       "      <td>33</td>\n",
       "      <td>7976</td>\n",
       "      <td>5</td>\n",
       "      <td>NaN</td>\n",
       "      <td>0</td>\n",
       "      <td>11</td>\n",
       "      <td>B</td>\n",
       "      <td>184966.930730</td>\n",
       "    </tr>\n",
       "    <tr>\n",
       "      <th>1</th>\n",
       "      <td>15053</td>\n",
       "      <td>41</td>\n",
       "      <td>3.0</td>\n",
       "      <td>65.683640</td>\n",
       "      <td>40.049543</td>\n",
       "      <td>8.0</td>\n",
       "      <td>7</td>\n",
       "      <td>9.0</td>\n",
       "      <td>1978</td>\n",
       "      <td>0.000070</td>\n",
       "      <td>B</td>\n",
       "      <td>B</td>\n",
       "      <td>46</td>\n",
       "      <td>10309</td>\n",
       "      <td>1</td>\n",
       "      <td>240.0</td>\n",
       "      <td>1</td>\n",
       "      <td>16</td>\n",
       "      <td>B</td>\n",
       "      <td>300009.450063</td>\n",
       "    </tr>\n",
       "    <tr>\n",
       "      <th>2</th>\n",
       "      <td>4765</td>\n",
       "      <td>53</td>\n",
       "      <td>2.0</td>\n",
       "      <td>44.947953</td>\n",
       "      <td>29.197612</td>\n",
       "      <td>0.0</td>\n",
       "      <td>8</td>\n",
       "      <td>12.0</td>\n",
       "      <td>1968</td>\n",
       "      <td>0.049637</td>\n",
       "      <td>B</td>\n",
       "      <td>B</td>\n",
       "      <td>34</td>\n",
       "      <td>7759</td>\n",
       "      <td>0</td>\n",
       "      <td>229.0</td>\n",
       "      <td>1</td>\n",
       "      <td>3</td>\n",
       "      <td>B</td>\n",
       "      <td>220925.908524</td>\n",
       "    </tr>\n",
       "    <tr>\n",
       "      <th>3</th>\n",
       "      <td>5809</td>\n",
       "      <td>58</td>\n",
       "      <td>2.0</td>\n",
       "      <td>53.352981</td>\n",
       "      <td>52.731512</td>\n",
       "      <td>9.0</td>\n",
       "      <td>8</td>\n",
       "      <td>17.0</td>\n",
       "      <td>1977</td>\n",
       "      <td>0.437885</td>\n",
       "      <td>B</td>\n",
       "      <td>B</td>\n",
       "      <td>23</td>\n",
       "      <td>5735</td>\n",
       "      <td>3</td>\n",
       "      <td>1084.0</td>\n",
       "      <td>0</td>\n",
       "      <td>5</td>\n",
       "      <td>B</td>\n",
       "      <td>175616.227217</td>\n",
       "    </tr>\n",
       "    <tr>\n",
       "      <th>4</th>\n",
       "      <td>10783</td>\n",
       "      <td>99</td>\n",
       "      <td>1.0</td>\n",
       "      <td>39.649192</td>\n",
       "      <td>23.776169</td>\n",
       "      <td>7.0</td>\n",
       "      <td>11</td>\n",
       "      <td>12.0</td>\n",
       "      <td>1976</td>\n",
       "      <td>0.012339</td>\n",
       "      <td>B</td>\n",
       "      <td>B</td>\n",
       "      <td>35</td>\n",
       "      <td>5776</td>\n",
       "      <td>1</td>\n",
       "      <td>2078.0</td>\n",
       "      <td>2</td>\n",
       "      <td>4</td>\n",
       "      <td>B</td>\n",
       "      <td>150226.531644</td>\n",
       "    </tr>\n",
       "    <tr>\n",
       "      <th>...</th>\n",
       "      <td>...</td>\n",
       "      <td>...</td>\n",
       "      <td>...</td>\n",
       "      <td>...</td>\n",
       "      <td>...</td>\n",
       "      <td>...</td>\n",
       "      <td>...</td>\n",
       "      <td>...</td>\n",
       "      <td>...</td>\n",
       "      <td>...</td>\n",
       "      <td>...</td>\n",
       "      <td>...</td>\n",
       "      <td>...</td>\n",
       "      <td>...</td>\n",
       "      <td>...</td>\n",
       "      <td>...</td>\n",
       "      <td>...</td>\n",
       "      <td>...</td>\n",
       "      <td>...</td>\n",
       "      <td>...</td>\n",
       "    </tr>\n",
       "    <tr>\n",
       "      <th>9995</th>\n",
       "      <td>77</td>\n",
       "      <td>32</td>\n",
       "      <td>2.0</td>\n",
       "      <td>50.401785</td>\n",
       "      <td>30.476203</td>\n",
       "      <td>5.0</td>\n",
       "      <td>6</td>\n",
       "      <td>5.0</td>\n",
       "      <td>1968</td>\n",
       "      <td>0.135650</td>\n",
       "      <td>B</td>\n",
       "      <td>B</td>\n",
       "      <td>46</td>\n",
       "      <td>7960</td>\n",
       "      <td>6</td>\n",
       "      <td>350.0</td>\n",
       "      <td>3</td>\n",
       "      <td>11</td>\n",
       "      <td>B</td>\n",
       "      <td>196684.316040</td>\n",
       "    </tr>\n",
       "    <tr>\n",
       "      <th>9996</th>\n",
       "      <td>6159</td>\n",
       "      <td>18</td>\n",
       "      <td>1.0</td>\n",
       "      <td>41.521546</td>\n",
       "      <td>20.539216</td>\n",
       "      <td>9.0</td>\n",
       "      <td>13</td>\n",
       "      <td>13.0</td>\n",
       "      <td>2000</td>\n",
       "      <td>0.000000</td>\n",
       "      <td>B</td>\n",
       "      <td>B</td>\n",
       "      <td>30</td>\n",
       "      <td>5562</td>\n",
       "      <td>0</td>\n",
       "      <td>NaN</td>\n",
       "      <td>0</td>\n",
       "      <td>5</td>\n",
       "      <td>A</td>\n",
       "      <td>189050.289571</td>\n",
       "    </tr>\n",
       "    <tr>\n",
       "      <th>9997</th>\n",
       "      <td>5123</td>\n",
       "      <td>27</td>\n",
       "      <td>1.0</td>\n",
       "      <td>47.939008</td>\n",
       "      <td>NaN</td>\n",
       "      <td>1.0</td>\n",
       "      <td>12</td>\n",
       "      <td>16.0</td>\n",
       "      <td>2015</td>\n",
       "      <td>0.072158</td>\n",
       "      <td>B</td>\n",
       "      <td>B</td>\n",
       "      <td>2</td>\n",
       "      <td>629</td>\n",
       "      <td>1</td>\n",
       "      <td>NaN</td>\n",
       "      <td>0</td>\n",
       "      <td>0</td>\n",
       "      <td>A</td>\n",
       "      <td>159143.805370</td>\n",
       "    </tr>\n",
       "    <tr>\n",
       "      <th>9998</th>\n",
       "      <td>5400</td>\n",
       "      <td>75</td>\n",
       "      <td>2.0</td>\n",
       "      <td>43.602562</td>\n",
       "      <td>33.840147</td>\n",
       "      <td>8.0</td>\n",
       "      <td>1</td>\n",
       "      <td>5.0</td>\n",
       "      <td>1961</td>\n",
       "      <td>0.307467</td>\n",
       "      <td>B</td>\n",
       "      <td>A</td>\n",
       "      <td>30</td>\n",
       "      <td>5048</td>\n",
       "      <td>9</td>\n",
       "      <td>325.0</td>\n",
       "      <td>2</td>\n",
       "      <td>5</td>\n",
       "      <td>B</td>\n",
       "      <td>181595.339808</td>\n",
       "    </tr>\n",
       "    <tr>\n",
       "      <th>9999</th>\n",
       "      <td>6306</td>\n",
       "      <td>128</td>\n",
       "      <td>1.0</td>\n",
       "      <td>38.666645</td>\n",
       "      <td>21.157874</td>\n",
       "      <td>8.0</td>\n",
       "      <td>7</td>\n",
       "      <td>17.0</td>\n",
       "      <td>1990</td>\n",
       "      <td>0.000000</td>\n",
       "      <td>B</td>\n",
       "      <td>B</td>\n",
       "      <td>27</td>\n",
       "      <td>4798</td>\n",
       "      <td>0</td>\n",
       "      <td>30.0</td>\n",
       "      <td>2</td>\n",
       "      <td>8</td>\n",
       "      <td>B</td>\n",
       "      <td>218714.077615</td>\n",
       "    </tr>\n",
       "  </tbody>\n",
       "</table>\n",
       "<p>10000 rows × 20 columns</p>\n",
       "</div>"
      ],
      "text/plain": [
       "         Id  DistrictId  Rooms     Square  LifeSquare  KitchenSquare  Floor  \\\n",
       "0     14038          35    2.0  47.981561   29.442751            6.0      7   \n",
       "1     15053          41    3.0  65.683640   40.049543            8.0      7   \n",
       "2      4765          53    2.0  44.947953   29.197612            0.0      8   \n",
       "3      5809          58    2.0  53.352981   52.731512            9.0      8   \n",
       "4     10783          99    1.0  39.649192   23.776169            7.0     11   \n",
       "...     ...         ...    ...        ...         ...            ...    ...   \n",
       "9995     77          32    2.0  50.401785   30.476203            5.0      6   \n",
       "9996   6159          18    1.0  41.521546   20.539216            9.0     13   \n",
       "9997   5123          27    1.0  47.939008         NaN            1.0     12   \n",
       "9998   5400          75    2.0  43.602562   33.840147            8.0      1   \n",
       "9999   6306         128    1.0  38.666645   21.157874            8.0      7   \n",
       "\n",
       "      HouseFloor  HouseYear  Ecology_1 Ecology_2 Ecology_3  Social_1  \\\n",
       "0            9.0       1969   0.089040         B         B        33   \n",
       "1            9.0       1978   0.000070         B         B        46   \n",
       "2           12.0       1968   0.049637         B         B        34   \n",
       "3           17.0       1977   0.437885         B         B        23   \n",
       "4           12.0       1976   0.012339         B         B        35   \n",
       "...          ...        ...        ...       ...       ...       ...   \n",
       "9995         5.0       1968   0.135650         B         B        46   \n",
       "9996        13.0       2000   0.000000         B         B        30   \n",
       "9997        16.0       2015   0.072158         B         B         2   \n",
       "9998         5.0       1961   0.307467         B         A        30   \n",
       "9999        17.0       1990   0.000000         B         B        27   \n",
       "\n",
       "      Social_2  Social_3  Healthcare_1  Helthcare_2  Shops_1 Shops_2  \\\n",
       "0         7976         5           NaN            0       11       B   \n",
       "1        10309         1         240.0            1       16       B   \n",
       "2         7759         0         229.0            1        3       B   \n",
       "3         5735         3        1084.0            0        5       B   \n",
       "4         5776         1        2078.0            2        4       B   \n",
       "...        ...       ...           ...          ...      ...     ...   \n",
       "9995      7960         6         350.0            3       11       B   \n",
       "9996      5562         0           NaN            0        5       A   \n",
       "9997       629         1           NaN            0        0       A   \n",
       "9998      5048         9         325.0            2        5       B   \n",
       "9999      4798         0          30.0            2        8       B   \n",
       "\n",
       "              Price  \n",
       "0     184966.930730  \n",
       "1     300009.450063  \n",
       "2     220925.908524  \n",
       "3     175616.227217  \n",
       "4     150226.531644  \n",
       "...             ...  \n",
       "9995  196684.316040  \n",
       "9996  189050.289571  \n",
       "9997  159143.805370  \n",
       "9998  181595.339808  \n",
       "9999  218714.077615  \n",
       "\n",
       "[10000 rows x 20 columns]"
      ]
     },
     "execution_count": 3,
     "metadata": {},
     "output_type": "execute_result"
    }
   ],
   "source": [
    "train_data = pd.read_csv(TRAIN_DATASET_PATH)\n",
    "train_data"
   ]
  },
  {
   "cell_type": "code",
   "execution_count": 4,
   "metadata": {
    "execution": {
     "iopub.execute_input": "2020-08-16T16:30:44.056641Z",
     "iopub.status.busy": "2020-08-16T16:30:44.055848Z",
     "iopub.status.idle": "2020-08-16T16:30:44.074842Z",
     "shell.execute_reply": "2020-08-16T16:30:44.073940Z"
    },
    "papermill": {
     "duration": 0.059609,
     "end_time": "2020-08-16T16:30:44.074989",
     "exception": false,
     "start_time": "2020-08-16T16:30:44.015380",
     "status": "completed"
    },
    "tags": []
   },
   "outputs": [
    {
     "name": "stdout",
     "output_type": "stream",
     "text": [
      "<class 'pandas.core.frame.DataFrame'>\n",
      "RangeIndex: 10000 entries, 0 to 9999\n",
      "Data columns (total 20 columns):\n",
      " #   Column         Non-Null Count  Dtype  \n",
      "---  ------         --------------  -----  \n",
      " 0   Id             10000 non-null  int64  \n",
      " 1   DistrictId     10000 non-null  int64  \n",
      " 2   Rooms          10000 non-null  float64\n",
      " 3   Square         10000 non-null  float64\n",
      " 4   LifeSquare     7887 non-null   float64\n",
      " 5   KitchenSquare  10000 non-null  float64\n",
      " 6   Floor          10000 non-null  int64  \n",
      " 7   HouseFloor     10000 non-null  float64\n",
      " 8   HouseYear      10000 non-null  int64  \n",
      " 9   Ecology_1      10000 non-null  float64\n",
      " 10  Ecology_2      10000 non-null  object \n",
      " 11  Ecology_3      10000 non-null  object \n",
      " 12  Social_1       10000 non-null  int64  \n",
      " 13  Social_2       10000 non-null  int64  \n",
      " 14  Social_3       10000 non-null  int64  \n",
      " 15  Healthcare_1   5202 non-null   float64\n",
      " 16  Helthcare_2    10000 non-null  int64  \n",
      " 17  Shops_1        10000 non-null  int64  \n",
      " 18  Shops_2        10000 non-null  object \n",
      " 19  Price          10000 non-null  float64\n",
      "dtypes: float64(8), int64(9), object(3)\n",
      "memory usage: 1.5+ MB\n"
     ]
    }
   ],
   "source": [
    "X['HouseFloor'].sort_values().unique()\n",
    "X.info()"
   ]
  },
  {
   "cell_type": "code",
   "execution_count": 5,
   "metadata": {
    "execution": {
     "iopub.execute_input": "2020-08-16T16:30:44.151040Z",
     "iopub.status.busy": "2020-08-16T16:30:44.149904Z",
     "iopub.status.idle": "2020-08-16T16:30:44.169085Z",
     "shell.execute_reply": "2020-08-16T16:30:44.168004Z"
    },
    "papermill": {
     "duration": 0.059644,
     "end_time": "2020-08-16T16:30:44.169290",
     "exception": false,
     "start_time": "2020-08-16T16:30:44.109646",
     "status": "completed"
    },
    "tags": []
   },
   "outputs": [
    {
     "name": "stdout",
     "output_type": "stream",
     "text": [
      "<class 'pandas.core.frame.DataFrame'>\n",
      "RangeIndex: 10000 entries, 0 to 9999\n",
      "Data columns (total 20 columns):\n",
      " #   Column         Non-Null Count  Dtype  \n",
      "---  ------         --------------  -----  \n",
      " 0   Id             10000 non-null  int64  \n",
      " 1   DistrictId     10000 non-null  int64  \n",
      " 2   Rooms          10000 non-null  float64\n",
      " 3   Square         10000 non-null  float64\n",
      " 4   LifeSquare     7887 non-null   float64\n",
      " 5   KitchenSquare  10000 non-null  float64\n",
      " 6   Floor          10000 non-null  int64  \n",
      " 7   HouseFloor     10000 non-null  float64\n",
      " 8   HouseYear      10000 non-null  int64  \n",
      " 9   Ecology_1      10000 non-null  float64\n",
      " 10  Ecology_2      10000 non-null  object \n",
      " 11  Ecology_3      10000 non-null  object \n",
      " 12  Social_1       10000 non-null  int64  \n",
      " 13  Social_2       10000 non-null  int64  \n",
      " 14  Social_3       10000 non-null  int64  \n",
      " 15  Healthcare_1   5202 non-null   float64\n",
      " 16  Helthcare_2    10000 non-null  int64  \n",
      " 17  Shops_1        10000 non-null  int64  \n",
      " 18  Shops_2        10000 non-null  object \n",
      " 19  Price          10000 non-null  float64\n",
      "dtypes: float64(8), int64(9), object(3)\n",
      "memory usage: 1.5+ MB\n"
     ]
    }
   ],
   "source": [
    "X['Floor'].sort_values().unique()\n",
    "X.info()"
   ]
  },
  {
   "cell_type": "code",
   "execution_count": 6,
   "metadata": {
    "execution": {
     "iopub.execute_input": "2020-08-16T16:30:44.245841Z",
     "iopub.status.busy": "2020-08-16T16:30:44.245000Z",
     "iopub.status.idle": "2020-08-16T16:30:44.281929Z",
     "shell.execute_reply": "2020-08-16T16:30:44.281082Z"
    },
    "papermill": {
     "duration": 0.077067,
     "end_time": "2020-08-16T16:30:44.282065",
     "exception": false,
     "start_time": "2020-08-16T16:30:44.204998",
     "status": "completed"
    },
    "tags": []
   },
   "outputs": [
    {
     "name": "stdout",
     "output_type": "stream",
     "text": [
      "<class 'pandas.core.frame.DataFrame'>\n",
      "RangeIndex: 10000 entries, 0 to 9999\n",
      "Data columns (total 20 columns):\n",
      " #   Column         Non-Null Count  Dtype  \n",
      "---  ------         --------------  -----  \n",
      " 0   Id             10000 non-null  int64  \n",
      " 1   DistrictId     10000 non-null  int64  \n",
      " 2   Rooms          10000 non-null  float64\n",
      " 3   Square         10000 non-null  float64\n",
      " 4   LifeSquare     7887 non-null   float64\n",
      " 5   KitchenSquare  10000 non-null  float64\n",
      " 6   Floor          10000 non-null  int64  \n",
      " 7   HouseFloor     10000 non-null  float64\n",
      " 8   HouseYear      10000 non-null  int64  \n",
      " 9   Ecology_1      10000 non-null  float64\n",
      " 10  Ecology_2      10000 non-null  object \n",
      " 11  Ecology_3      10000 non-null  object \n",
      " 12  Social_1       10000 non-null  int64  \n",
      " 13  Social_2       10000 non-null  int64  \n",
      " 14  Social_3       10000 non-null  int64  \n",
      " 15  Healthcare_1   5202 non-null   float64\n",
      " 16  Helthcare_2    10000 non-null  int64  \n",
      " 17  Shops_1        10000 non-null  int64  \n",
      " 18  Shops_2        10000 non-null  object \n",
      " 19  Price          10000 non-null  float64\n",
      "dtypes: float64(8), int64(9), object(3)\n",
      "memory usage: 1.5+ MB\n"
     ]
    }
   ],
   "source": [
    "(X['Floor'] > X['HouseFloor']).sum()\n",
    "X.info()"
   ]
  },
  {
   "cell_type": "code",
   "execution_count": 7,
   "metadata": {
    "execution": {
     "iopub.execute_input": "2020-08-16T16:30:44.366003Z",
     "iopub.status.busy": "2020-08-16T16:30:44.364854Z",
     "iopub.status.idle": "2020-08-16T16:30:44.378082Z",
     "shell.execute_reply": "2020-08-16T16:30:44.377256Z"
    },
    "papermill": {
     "duration": 0.06077,
     "end_time": "2020-08-16T16:30:44.378251",
     "exception": false,
     "start_time": "2020-08-16T16:30:44.317481",
     "status": "completed"
    },
    "tags": []
   },
   "outputs": [
    {
     "name": "stdout",
     "output_type": "stream",
     "text": [
      "<class 'pandas.core.frame.DataFrame'>\n",
      "RangeIndex: 10000 entries, 0 to 9999\n",
      "Data columns (total 20 columns):\n",
      " #   Column         Non-Null Count  Dtype  \n",
      "---  ------         --------------  -----  \n",
      " 0   Id             10000 non-null  int64  \n",
      " 1   DistrictId     10000 non-null  int64  \n",
      " 2   Rooms          10000 non-null  float64\n",
      " 3   Square         10000 non-null  float64\n",
      " 4   LifeSquare     7887 non-null   float64\n",
      " 5   KitchenSquare  10000 non-null  float64\n",
      " 6   Floor          10000 non-null  int64  \n",
      " 7   HouseFloor     10000 non-null  float64\n",
      " 8   HouseYear      10000 non-null  int64  \n",
      " 9   Ecology_1      10000 non-null  float64\n",
      " 10  Ecology_2      10000 non-null  object \n",
      " 11  Ecology_3      10000 non-null  object \n",
      " 12  Social_1       10000 non-null  int64  \n",
      " 13  Social_2       10000 non-null  int64  \n",
      " 14  Social_3       10000 non-null  int64  \n",
      " 15  Healthcare_1   5202 non-null   float64\n",
      " 16  Helthcare_2    10000 non-null  int64  \n",
      " 17  Shops_1        10000 non-null  int64  \n",
      " 18  Shops_2        10000 non-null  object \n",
      " 19  Price          10000 non-null  float64\n",
      "dtypes: float64(8), int64(9), object(3)\n",
      "memory usage: 1.5+ MB\n"
     ]
    }
   ],
   "source": [
    "X.info()"
   ]
  },
  {
   "cell_type": "code",
   "execution_count": 8,
   "metadata": {
    "execution": {
     "iopub.execute_input": "2020-08-16T16:30:44.458647Z",
     "iopub.status.busy": "2020-08-16T16:30:44.457853Z",
     "iopub.status.idle": "2020-08-16T16:30:44.757617Z",
     "shell.execute_reply": "2020-08-16T16:30:44.756847Z"
    },
    "papermill": {
     "duration": 0.343203,
     "end_time": "2020-08-16T16:30:44.757742",
     "exception": false,
     "start_time": "2020-08-16T16:30:44.414539",
     "status": "completed"
    },
    "tags": []
   },
   "outputs": [
    {
     "data": {
      "image/png": "[encoded data removed]",
      "text/plain": [
       "<Figure size 432x288 with 1 Axes>"
      ]
     },
     "metadata": {
      "needs_background": "light"
     },
     "output_type": "display_data"
    }
   ],
   "source": [
    "# 1 график площади\n",
    "var = 'Square'\n",
    "data = pd.concat([X['Price'], X[var]], axis=1)\n",
    "data.plot.scatter(x=var, y='Price');"
   ]
  },
  {
   "cell_type": "code",
   "execution_count": 9,
   "metadata": {
    "execution": {
     "iopub.execute_input": "2020-08-16T16:30:44.842183Z",
     "iopub.status.busy": "2020-08-16T16:30:44.841306Z",
     "iopub.status.idle": "2020-08-16T16:30:44.855132Z",
     "shell.execute_reply": "2020-08-16T16:30:44.854320Z"
    },
    "papermill": {
     "duration": 0.060456,
     "end_time": "2020-08-16T16:30:44.855307",
     "exception": false,
     "start_time": "2020-08-16T16:30:44.794851",
     "status": "completed"
    },
    "tags": []
   },
   "outputs": [
    {
     "name": "stdout",
     "output_type": "stream",
     "text": [
      "<class 'pandas.core.frame.DataFrame'>\n",
      "RangeIndex: 10000 entries, 0 to 9999\n",
      "Data columns (total 20 columns):\n",
      " #   Column         Non-Null Count  Dtype  \n",
      "---  ------         --------------  -----  \n",
      " 0   Id             10000 non-null  int64  \n",
      " 1   DistrictId     10000 non-null  int64  \n",
      " 2   Rooms          10000 non-null  float64\n",
      " 3   Square         10000 non-null  float64\n",
      " 4   LifeSquare     7887 non-null   float64\n",
      " 5   KitchenSquare  10000 non-null  float64\n",
      " 6   Floor          10000 non-null  int64  \n",
      " 7   HouseFloor     10000 non-null  float64\n",
      " 8   HouseYear      10000 non-null  int64  \n",
      " 9   Ecology_1      10000 non-null  float64\n",
      " 10  Ecology_2      10000 non-null  object \n",
      " 11  Ecology_3      10000 non-null  object \n",
      " 12  Social_1       10000 non-null  int64  \n",
      " 13  Social_2       10000 non-null  int64  \n",
      " 14  Social_3       10000 non-null  int64  \n",
      " 15  Healthcare_1   5202 non-null   float64\n",
      " 16  Helthcare_2    10000 non-null  int64  \n",
      " 17  Shops_1        10000 non-null  int64  \n",
      " 18  Shops_2        10000 non-null  object \n",
      " 19  Price          10000 non-null  float64\n",
      "dtypes: float64(8), int64(9), object(3)\n",
      "memory usage: 1.5+ MB\n"
     ]
    }
   ],
   "source": [
    "X.info()"
   ]
  },
  {
   "cell_type": "code",
   "execution_count": 10,
   "metadata": {
    "execution": {
     "iopub.execute_input": "2020-08-16T16:30:44.939716Z",
     "iopub.status.busy": "2020-08-16T16:30:44.938568Z",
     "iopub.status.idle": "2020-08-16T16:30:45.142849Z",
     "shell.execute_reply": "2020-08-16T16:30:45.143508Z"
    },
    "papermill": {
     "duration": 0.250322,
     "end_time": "2020-08-16T16:30:45.143703",
     "exception": false,
     "start_time": "2020-08-16T16:30:44.893381",
     "status": "completed"
    },
    "tags": []
   },
   "outputs": [
    {
     "data": {
      "image/png": "[encoded data removed]",
      "text/plain": [
       "<Figure size 432x288 with 1 Axes>"
      ]
     },
     "metadata": {
      "needs_background": "light"
     },
     "output_type": "display_data"
    }
   ],
   "source": [
    "# 2 график жилой площади\n",
    "var = 'LifeSquare'\n",
    "data = pd.concat([X['Price'], X[var]], axis=1)\n",
    "data.plot.scatter(x=var, y='Price');"
   ]
  },
  {
   "cell_type": "code",
   "execution_count": 11,
   "metadata": {
    "execution": {
     "iopub.execute_input": "2020-08-16T16:30:45.232622Z",
     "iopub.status.busy": "2020-08-16T16:30:45.231482Z",
     "iopub.status.idle": "2020-08-16T16:30:45.252512Z",
     "shell.execute_reply": "2020-08-16T16:30:45.251756Z"
    },
    "papermill": {
     "duration": 0.068372,
     "end_time": "2020-08-16T16:30:45.252636",
     "exception": false,
     "start_time": "2020-08-16T16:30:45.184264",
     "status": "completed"
    },
    "tags": []
   },
   "outputs": [
    {
     "data": {
      "text/plain": [
       "<bound method DataFrame.select_dtypes of          Id  DistrictId  Rooms     Square  LifeSquare  KitchenSquare  Floor  \\\n",
       "0     14038          35    2.0  47.981561   29.442751            6.0      7   \n",
       "1     15053          41    3.0  65.683640   40.049543            8.0      7   \n",
       "2      4765          53    2.0  44.947953   29.197612            0.0      8   \n",
       "3      5809          58    2.0  53.352981   52.731512            9.0      8   \n",
       "4     10783          99    1.0  39.649192   23.776169            7.0     11   \n",
       "...     ...         ...    ...        ...         ...            ...    ...   \n",
       "9995     77          32    2.0  50.401785   30.476203            5.0      6   \n",
       "9996   6159          18    1.0  41.521546   20.539216            9.0     13   \n",
       "9997   5123          27    1.0  47.939008         NaN            1.0     12   \n",
       "9998   5400          75    2.0  43.602562   33.840147            8.0      1   \n",
       "9999   6306         128    1.0  38.666645   21.157874            8.0      7   \n",
       "\n",
       "      HouseFloor  HouseYear  Ecology_1 Ecology_2 Ecology_3  Social_1  \\\n",
       "0            9.0       1969   0.089040         B         B        33   \n",
       "1            9.0       1978   0.000070         B         B        46   \n",
       "2           12.0       1968   0.049637         B         B        34   \n",
       "3           17.0       1977   0.437885         B         B        23   \n",
       "4           12.0       1976   0.012339         B         B        35   \n",
       "...          ...        ...        ...       ...       ...       ...   \n",
       "9995         5.0       1968   0.135650         B         B        46   \n",
       "9996        13.0       2000   0.000000         B         B        30   \n",
       "9997        16.0       2015   0.072158         B         B         2   \n",
       "9998         5.0       1961   0.307467         B         A        30   \n",
       "9999        17.0       1990   0.000000         B         B        27   \n",
       "\n",
       "      Social_2  Social_3  Healthcare_1  Helthcare_2  Shops_1 Shops_2  \\\n",
       "0         7976         5           NaN            0       11       B   \n",
       "1        10309         1         240.0            1       16       B   \n",
       "2         7759         0         229.0            1        3       B   \n",
       "3         5735         3        1084.0            0        5       B   \n",
       "4         5776         1        2078.0            2        4       B   \n",
       "...        ...       ...           ...          ...      ...     ...   \n",
       "9995      7960         6         350.0            3       11       B   \n",
       "9996      5562         0           NaN            0        5       A   \n",
       "9997       629         1           NaN            0        0       A   \n",
       "9998      5048         9         325.0            2        5       B   \n",
       "9999      4798         0          30.0            2        8       B   \n",
       "\n",
       "              Price  \n",
       "0     184966.930730  \n",
       "1     300009.450063  \n",
       "2     220925.908524  \n",
       "3     175616.227217  \n",
       "4     150226.531644  \n",
       "...             ...  \n",
       "9995  196684.316040  \n",
       "9996  189050.289571  \n",
       "9997  159143.805370  \n",
       "9998  181595.339808  \n",
       "9999  218714.077615  \n",
       "\n",
       "[10000 rows x 20 columns]>"
      ]
     },
     "execution_count": 11,
     "metadata": {},
     "output_type": "execute_result"
    }
   ],
   "source": [
    "X.select_dtypes"
   ]
  },
  {
   "cell_type": "code",
   "execution_count": 12,
   "metadata": {
    "execution": {
     "iopub.execute_input": "2020-08-16T16:30:45.343077Z",
     "iopub.status.busy": "2020-08-16T16:30:45.342328Z",
     "iopub.status.idle": "2020-08-16T16:30:45.346202Z",
     "shell.execute_reply": "2020-08-16T16:30:45.345543Z"
    },
    "papermill": {
     "duration": 0.052864,
     "end_time": "2020-08-16T16:30:45.346330",
     "exception": false,
     "start_time": "2020-08-16T16:30:45.293466",
     "status": "completed"
    },
    "tags": []
   },
   "outputs": [],
   "source": [
    "df = X.select_dtypes(include='float64')"
   ]
  },
  {
   "cell_type": "code",
   "execution_count": 13,
   "metadata": {
    "execution": {
     "iopub.execute_input": "2020-08-16T16:30:45.435102Z",
     "iopub.status.busy": "2020-08-16T16:30:45.434263Z",
     "iopub.status.idle": "2020-08-16T16:30:45.456585Z",
     "shell.execute_reply": "2020-08-16T16:30:45.455944Z"
    },
    "papermill": {
     "duration": 0.068391,
     "end_time": "2020-08-16T16:30:45.456720",
     "exception": false,
     "start_time": "2020-08-16T16:30:45.388329",
     "status": "completed"
    },
    "tags": []
   },
   "outputs": [
    {
     "data": {
      "text/html": [
       "<div>\n",
       "<style scoped>\n",
       "    .dataframe tbody tr th:only-of-type {\n",
       "        vertical-align: middle;\n",
       "    }\n",
       "\n",
       "    .dataframe tbody tr th {\n",
       "        vertical-align: top;\n",
       "    }\n",
       "\n",
       "    .dataframe thead th {\n",
       "        text-align: right;\n",
       "    }\n",
       "</style>\n",
       "<table border=\"1\" class=\"dataframe\">\n",
       "  <thead>\n",
       "    <tr style=\"text-align: right;\">\n",
       "      <th></th>\n",
       "      <th>Rooms</th>\n",
       "      <th>Square</th>\n",
       "      <th>LifeSquare</th>\n",
       "      <th>KitchenSquare</th>\n",
       "      <th>HouseFloor</th>\n",
       "      <th>Ecology_1</th>\n",
       "      <th>Healthcare_1</th>\n",
       "      <th>Price</th>\n",
       "    </tr>\n",
       "  </thead>\n",
       "  <tbody>\n",
       "    <tr>\n",
       "      <th>Rooms</th>\n",
       "      <td>1.000000</td>\n",
       "      <td>0.662893</td>\n",
       "      <td>0.131336</td>\n",
       "      <td>0.005123</td>\n",
       "      <td>-0.029302</td>\n",
       "      <td>-0.032347</td>\n",
       "      <td>0.042857</td>\n",
       "      <td>0.550291</td>\n",
       "    </tr>\n",
       "    <tr>\n",
       "      <th>Square</th>\n",
       "      <td>0.662893</td>\n",
       "      <td>1.000000</td>\n",
       "      <td>0.196129</td>\n",
       "      <td>0.008320</td>\n",
       "      <td>0.081505</td>\n",
       "      <td>-0.064479</td>\n",
       "      <td>-0.039748</td>\n",
       "      <td>0.520075</td>\n",
       "    </tr>\n",
       "    <tr>\n",
       "      <th>LifeSquare</th>\n",
       "      <td>0.131336</td>\n",
       "      <td>0.196129</td>\n",
       "      <td>1.000000</td>\n",
       "      <td>-0.001195</td>\n",
       "      <td>0.027442</td>\n",
       "      <td>-0.023629</td>\n",
       "      <td>-0.026867</td>\n",
       "      <td>0.081292</td>\n",
       "    </tr>\n",
       "    <tr>\n",
       "      <th>KitchenSquare</th>\n",
       "      <td>0.005123</td>\n",
       "      <td>0.008320</td>\n",
       "      <td>-0.001195</td>\n",
       "      <td>1.000000</td>\n",
       "      <td>0.000780</td>\n",
       "      <td>-0.005622</td>\n",
       "      <td>0.009472</td>\n",
       "      <td>0.028864</td>\n",
       "    </tr>\n",
       "    <tr>\n",
       "      <th>HouseFloor</th>\n",
       "      <td>-0.029302</td>\n",
       "      <td>0.081505</td>\n",
       "      <td>0.027442</td>\n",
       "      <td>0.000780</td>\n",
       "      <td>1.000000</td>\n",
       "      <td>-0.004362</td>\n",
       "      <td>-0.143973</td>\n",
       "      <td>0.088280</td>\n",
       "    </tr>\n",
       "    <tr>\n",
       "      <th>Ecology_1</th>\n",
       "      <td>-0.032347</td>\n",
       "      <td>-0.064479</td>\n",
       "      <td>-0.023629</td>\n",
       "      <td>-0.005622</td>\n",
       "      <td>-0.004362</td>\n",
       "      <td>1.000000</td>\n",
       "      <td>-0.043547</td>\n",
       "      <td>-0.058381</td>\n",
       "    </tr>\n",
       "    <tr>\n",
       "      <th>Healthcare_1</th>\n",
       "      <td>0.042857</td>\n",
       "      <td>-0.039748</td>\n",
       "      <td>-0.026867</td>\n",
       "      <td>0.009472</td>\n",
       "      <td>-0.143973</td>\n",
       "      <td>-0.043547</td>\n",
       "      <td>1.000000</td>\n",
       "      <td>0.138755</td>\n",
       "    </tr>\n",
       "    <tr>\n",
       "      <th>Price</th>\n",
       "      <td>0.550291</td>\n",
       "      <td>0.520075</td>\n",
       "      <td>0.081292</td>\n",
       "      <td>0.028864</td>\n",
       "      <td>0.088280</td>\n",
       "      <td>-0.058381</td>\n",
       "      <td>0.138755</td>\n",
       "      <td>1.000000</td>\n",
       "    </tr>\n",
       "  </tbody>\n",
       "</table>\n",
       "</div>"
      ],
      "text/plain": [
       "                  Rooms    Square  LifeSquare  KitchenSquare  HouseFloor  \\\n",
       "Rooms          1.000000  0.662893    0.131336       0.005123   -0.029302   \n",
       "Square         0.662893  1.000000    0.196129       0.008320    0.081505   \n",
       "LifeSquare     0.131336  0.196129    1.000000      -0.001195    0.027442   \n",
       "KitchenSquare  0.005123  0.008320   -0.001195       1.000000    0.000780   \n",
       "HouseFloor    -0.029302  0.081505    0.027442       0.000780    1.000000   \n",
       "Ecology_1     -0.032347 -0.064479   -0.023629      -0.005622   -0.004362   \n",
       "Healthcare_1   0.042857 -0.039748   -0.026867       0.009472   -0.143973   \n",
       "Price          0.550291  0.520075    0.081292       0.028864    0.088280   \n",
       "\n",
       "               Ecology_1  Healthcare_1     Price  \n",
       "Rooms          -0.032347      0.042857  0.550291  \n",
       "Square         -0.064479     -0.039748  0.520075  \n",
       "LifeSquare     -0.023629     -0.026867  0.081292  \n",
       "KitchenSquare  -0.005622      0.009472  0.028864  \n",
       "HouseFloor     -0.004362     -0.143973  0.088280  \n",
       "Ecology_1       1.000000     -0.043547 -0.058381  \n",
       "Healthcare_1   -0.043547      1.000000  0.138755  \n",
       "Price          -0.058381      0.138755  1.000000  "
      ]
     },
     "execution_count": 13,
     "metadata": {},
     "output_type": "execute_result"
    }
   ],
   "source": [
    "# корреляция\n",
    "df.corr()"
   ]
  },
  {
   "cell_type": "code",
   "execution_count": 14,
   "metadata": {
    "execution": {
     "iopub.execute_input": "2020-08-16T16:30:45.545615Z",
     "iopub.status.busy": "2020-08-16T16:30:45.543219Z",
     "iopub.status.idle": "2020-08-16T16:30:45.559739Z",
     "shell.execute_reply": "2020-08-16T16:30:45.560636Z"
    },
    "papermill": {
     "duration": 0.063538,
     "end_time": "2020-08-16T16:30:45.560884",
     "exception": false,
     "start_time": "2020-08-16T16:30:45.497346",
     "status": "completed"
    },
    "tags": []
   },
   "outputs": [
    {
     "name": "stdout",
     "output_type": "stream",
     "text": [
      "<class 'pandas.core.frame.DataFrame'>\n",
      "RangeIndex: 5000 entries, 0 to 4999\n",
      "Data columns (total 19 columns):\n",
      " #   Column         Non-Null Count  Dtype  \n",
      "---  ------         --------------  -----  \n",
      " 0   Id             5000 non-null   int64  \n",
      " 1   DistrictId     5000 non-null   int64  \n",
      " 2   Rooms          5000 non-null   float64\n",
      " 3   Square         5000 non-null   float64\n",
      " 4   LifeSquare     3959 non-null   float64\n",
      " 5   KitchenSquare  5000 non-null   float64\n",
      " 6   Floor          5000 non-null   int64  \n",
      " 7   HouseFloor     5000 non-null   float64\n",
      " 8   HouseYear      5000 non-null   int64  \n",
      " 9   Ecology_1      5000 non-null   float64\n",
      " 10  Ecology_2      5000 non-null   object \n",
      " 11  Ecology_3      5000 non-null   object \n",
      " 12  Social_1       5000 non-null   int64  \n",
      " 13  Social_2       5000 non-null   int64  \n",
      " 14  Social_3       5000 non-null   int64  \n",
      " 15  Healthcare_1   2623 non-null   float64\n",
      " 16  Helthcare_2    5000 non-null   int64  \n",
      " 17  Shops_1        5000 non-null   int64  \n",
      " 18  Shops_2        5000 non-null   object \n",
      "dtypes: float64(7), int64(9), object(3)\n",
      "memory usage: 742.3+ KB\n"
     ]
    }
   ],
   "source": [
    "X_final.info()"
   ]
  },
  {
   "cell_type": "code",
   "execution_count": 15,
   "metadata": {
    "execution": {
     "iopub.execute_input": "2020-08-16T16:30:45.656672Z",
     "iopub.status.busy": "2020-08-16T16:30:45.655873Z",
     "iopub.status.idle": "2020-08-16T16:30:45.667479Z",
     "shell.execute_reply": "2020-08-16T16:30:45.666585Z"
    },
    "papermill": {
     "duration": 0.064065,
     "end_time": "2020-08-16T16:30:45.667650",
     "exception": false,
     "start_time": "2020-08-16T16:30:45.603585",
     "status": "completed"
    },
    "tags": []
   },
   "outputs": [
    {
     "name": "stdout",
     "output_type": "stream",
     "text": [
      "<class 'pandas.core.frame.DataFrame'>\n",
      "RangeIndex: 10000 entries, 0 to 9999\n",
      "Data columns (total 20 columns):\n",
      " #   Column         Non-Null Count  Dtype  \n",
      "---  ------         --------------  -----  \n",
      " 0   Id             10000 non-null  int64  \n",
      " 1   DistrictId     10000 non-null  int64  \n",
      " 2   Rooms          10000 non-null  float64\n",
      " 3   Square         10000 non-null  float64\n",
      " 4   LifeSquare     7887 non-null   float64\n",
      " 5   KitchenSquare  10000 non-null  float64\n",
      " 6   Floor          10000 non-null  int64  \n",
      " 7   HouseFloor     10000 non-null  float64\n",
      " 8   HouseYear      10000 non-null  int64  \n",
      " 9   Ecology_1      10000 non-null  float64\n",
      " 10  Ecology_2      10000 non-null  object \n",
      " 11  Ecology_3      10000 non-null  object \n",
      " 12  Social_1       10000 non-null  int64  \n",
      " 13  Social_2       10000 non-null  int64  \n",
      " 14  Social_3       10000 non-null  int64  \n",
      " 15  Healthcare_1   5202 non-null   float64\n",
      " 16  Helthcare_2    10000 non-null  int64  \n",
      " 17  Shops_1        10000 non-null  int64  \n",
      " 18  Shops_2        10000 non-null  object \n",
      " 19  Price          10000 non-null  float64\n",
      "dtypes: float64(8), int64(9), object(3)\n",
      "memory usage: 1.5+ MB\n"
     ]
    }
   ],
   "source": [
    "X.info()\n"
   ]
  },
  {
   "cell_type": "code",
   "execution_count": 16,
   "metadata": {
    "execution": {
     "iopub.execute_input": "2020-08-16T16:30:45.761601Z",
     "iopub.status.busy": "2020-08-16T16:30:45.760477Z",
     "iopub.status.idle": "2020-08-16T16:30:45.781944Z",
     "shell.execute_reply": "2020-08-16T16:30:45.781112Z"
    },
    "papermill": {
     "duration": 0.070989,
     "end_time": "2020-08-16T16:30:45.782092",
     "exception": false,
     "start_time": "2020-08-16T16:30:45.711103",
     "status": "completed"
    },
    "tags": []
   },
   "outputs": [],
   "source": [
    "X = X.sort_values('Price')\n",
    "X_final = X_final.sort_values('DistrictId')\n",
    "X = X.fillna(method='pad')\n",
    "X_final = X_final.fillna(method='pad')"
   ]
  },
  {
   "cell_type": "code",
   "execution_count": 17,
   "metadata": {
    "execution": {
     "iopub.execute_input": "2020-08-16T16:30:45.878901Z",
     "iopub.status.busy": "2020-08-16T16:30:45.877739Z",
     "iopub.status.idle": "2020-08-16T16:30:45.884794Z",
     "shell.execute_reply": "2020-08-16T16:30:45.884033Z"
    },
    "papermill": {
     "duration": 0.059589,
     "end_time": "2020-08-16T16:30:45.884920",
     "exception": false,
     "start_time": "2020-08-16T16:30:45.825331",
     "status": "completed"
    },
    "tags": []
   },
   "outputs": [],
   "source": [
    "y = X.Price\n",
    "X.drop('Price', axis=1, inplace=True)\n",
    "X.drop(\"Id\", axis=1, inplace=True)"
   ]
  },
  {
   "cell_type": "code",
   "execution_count": 18,
   "metadata": {
    "execution": {
     "iopub.execute_input": "2020-08-16T16:30:45.978057Z",
     "iopub.status.busy": "2020-08-16T16:30:45.977223Z",
     "iopub.status.idle": "2020-08-16T16:30:46.278188Z",
     "shell.execute_reply": "2020-08-16T16:30:46.277501Z"
    },
    "papermill": {
     "duration": 0.349496,
     "end_time": "2020-08-16T16:30:46.278311",
     "exception": false,
     "start_time": "2020-08-16T16:30:45.928815",
     "status": "completed"
    },
    "tags": []
   },
   "outputs": [
    {
     "data": {
      "text/plain": [
       "<matplotlib.collections.PathCollection at 0x7f315f9da450>"
      ]
     },
     "execution_count": 18,
     "metadata": {},
     "output_type": "execute_result"
    },
    {
     "data": {
      "image/png": "[encoded data removed]",
      "text/plain": [
       "<Figure size 864x432 with 1 Axes>"
      ]
     },
     "metadata": {
      "needs_background": "light"
     },
     "output_type": "display_data"
    }
   ],
   "source": [
    "# 3 график\n",
    "from pylab import rcParams\n",
    "rcParams['figure.figsize'] = 12, 6\n",
    "\n",
    "plt.scatter(y, X.Square)"
   ]
  },
  {
   "cell_type": "code",
   "execution_count": 19,
   "metadata": {
    "execution": {
     "iopub.execute_input": "2020-08-16T16:30:46.381076Z",
     "iopub.status.busy": "2020-08-16T16:30:46.380273Z",
     "iopub.status.idle": "2020-08-16T16:30:46.394061Z",
     "shell.execute_reply": "2020-08-16T16:30:46.393151Z"
    },
    "papermill": {
     "duration": 0.070626,
     "end_time": "2020-08-16T16:30:46.394249",
     "exception": false,
     "start_time": "2020-08-16T16:30:46.323623",
     "status": "completed"
    },
    "tags": []
   },
   "outputs": [],
   "source": [
    "X = pd.get_dummies(X)"
   ]
  },
  {
   "cell_type": "code",
   "execution_count": 20,
   "metadata": {
    "execution": {
     "iopub.execute_input": "2020-08-16T16:30:46.496545Z",
     "iopub.status.busy": "2020-08-16T16:30:46.495119Z",
     "iopub.status.idle": "2020-08-16T16:31:21.963213Z",
     "shell.execute_reply": "2020-08-16T16:31:21.963967Z"
    },
    "papermill": {
     "duration": 35.524277,
     "end_time": "2020-08-16T16:31:21.964142",
     "exception": false,
     "start_time": "2020-08-16T16:30:46.439865",
     "status": "completed"
    },
    "tags": []
   },
   "outputs": [
    {
     "name": "stdout",
     "output_type": "stream",
     "text": [
      "R2: 0.743 +- 0.015\n"
     ]
    }
   ],
   "source": [
    "# 1 модель и R2\n",
    "model1 = RandomForestRegressor(n_estimators=300, max_depth=18, random_state=42, max_features=7)\n",
    "cv_score = cross_val_score(model1, X, y, \n",
    "scoring='r2', \n",
    "cv=KFold(n_splits=5, shuffle=True, random_state=42))\n",
    "mean = cv_score.mean()\n",
    "std = cv_score.std()\n",
    "print('R2: {:.3f} +- {:.3f}'.format(mean, std))"
   ]
  },
  {
   "cell_type": "code",
   "execution_count": 21,
   "metadata": {
    "execution": {
     "iopub.execute_input": "2020-08-16T16:31:22.064275Z",
     "iopub.status.busy": "2020-08-16T16:31:22.063486Z",
     "iopub.status.idle": "2020-08-16T16:32:13.497768Z",
     "shell.execute_reply": "2020-08-16T16:32:13.498462Z"
    },
    "papermill": {
     "duration": 51.488946,
     "end_time": "2020-08-16T16:32:13.498656",
     "exception": false,
     "start_time": "2020-08-16T16:31:22.009710",
     "status": "completed"
    },
    "tags": []
   },
   "outputs": [
    {
     "name": "stdout",
     "output_type": "stream",
     "text": [
      "R2: 0.748 +- 0.022\n"
     ]
    }
   ],
   "source": [
    "# 2 модель и R2\n",
    "model2 = ensemble.GradientBoostingRegressor(n_estimators=300, max_depth=6, min_samples_split=2,\n",
    "learning_rate=0.1, loss='ls', random_state=42)\n",
    "cv_score = cross_val_score(model2, X, y, \n",
    "scoring='r2',cv=KFold(n_splits=5, shuffle=True, random_state=42))\n",
    "mean = cv_score.mean()\n",
    "std = cv_score.std()\n",
    "print('R2: {:.3f} +- {:.3f}'.format(mean, std))"
   ]
  },
  {
   "cell_type": "code",
   "execution_count": 22,
   "metadata": {
    "execution": {
     "iopub.execute_input": "2020-08-16T16:32:13.596056Z",
     "iopub.status.busy": "2020-08-16T16:32:13.595273Z",
     "iopub.status.idle": "2020-08-16T16:32:13.599463Z",
     "shell.execute_reply": "2020-08-16T16:32:13.598840Z"
    },
    "papermill": {
     "duration": 0.055368,
     "end_time": "2020-08-16T16:32:13.599603",
     "exception": false,
     "start_time": "2020-08-16T16:32:13.544235",
     "status": "completed"
    },
    "tags": []
   },
   "outputs": [],
   "source": [
    "model = VotingRegressor([('model1',model1), ('model2',model2)])"
   ]
  },
  {
   "cell_type": "code",
   "execution_count": 23,
   "metadata": {
    "execution": {
     "iopub.execute_input": "2020-08-16T16:32:13.700742Z",
     "iopub.status.busy": "2020-08-16T16:32:13.699641Z",
     "iopub.status.idle": "2020-08-16T16:32:35.015869Z",
     "shell.execute_reply": "2020-08-16T16:32:35.015068Z"
    },
    "papermill": {
     "duration": 21.370561,
     "end_time": "2020-08-16T16:32:35.016005",
     "exception": false,
     "start_time": "2020-08-16T16:32:13.645444",
     "status": "completed"
    },
    "tags": []
   },
   "outputs": [
    {
     "data": {
      "text/plain": [
       "VotingRegressor(estimators=[('model1',\n",
       "                             RandomForestRegressor(max_depth=18, max_features=7,\n",
       "                                                   n_estimators=300,\n",
       "                                                   random_state=42)),\n",
       "                            ('model2',\n",
       "                             GradientBoostingRegressor(max_depth=6,\n",
       "                                                       n_estimators=300,\n",
       "                                                       random_state=42))])"
      ]
     },
     "execution_count": 23,
     "metadata": {},
     "output_type": "execute_result"
    }
   ],
   "source": [
    "model.fit(X, y)"
   ]
  },
  {
   "cell_type": "code",
   "execution_count": 24,
   "metadata": {
    "execution": {
     "iopub.execute_input": "2020-08-16T16:32:35.119215Z",
     "iopub.status.busy": "2020-08-16T16:32:35.118432Z",
     "iopub.status.idle": "2020-08-16T16:32:35.613669Z",
     "shell.execute_reply": "2020-08-16T16:32:35.613001Z"
    },
    "papermill": {
     "duration": 0.551507,
     "end_time": "2020-08-16T16:32:35.613839",
     "exception": false,
     "start_time": "2020-08-16T16:32:35.062332",
     "status": "completed"
    },
    "tags": []
   },
   "outputs": [
    {
     "data": {
      "text/html": [
       "<div>\n",
       "<style scoped>\n",
       "    .dataframe tbody tr th:only-of-type {\n",
       "        vertical-align: middle;\n",
       "    }\n",
       "\n",
       "    .dataframe tbody tr th {\n",
       "        vertical-align: top;\n",
       "    }\n",
       "\n",
       "    .dataframe thead th {\n",
       "        text-align: right;\n",
       "    }\n",
       "</style>\n",
       "<table border=\"1\" class=\"dataframe\">\n",
       "  <thead>\n",
       "    <tr style=\"text-align: right;\">\n",
       "      <th></th>\n",
       "      <th>Id</th>\n",
       "      <th>Price</th>\n",
       "    </tr>\n",
       "  </thead>\n",
       "  <tbody>\n",
       "    <tr>\n",
       "      <th>4561</th>\n",
       "      <td>4836</td>\n",
       "      <td>243553.116039</td>\n",
       "    </tr>\n",
       "    <tr>\n",
       "      <th>2231</th>\n",
       "      <td>6456</td>\n",
       "      <td>183360.282732</td>\n",
       "    </tr>\n",
       "    <tr>\n",
       "      <th>2897</th>\n",
       "      <td>11838</td>\n",
       "      <td>102509.287331</td>\n",
       "    </tr>\n",
       "    <tr>\n",
       "      <th>514</th>\n",
       "      <td>11567</td>\n",
       "      <td>307249.510099</td>\n",
       "    </tr>\n",
       "    <tr>\n",
       "      <th>2831</th>\n",
       "      <td>6607</td>\n",
       "      <td>142041.453228</td>\n",
       "    </tr>\n",
       "    <tr>\n",
       "      <th>4739</th>\n",
       "      <td>3260</td>\n",
       "      <td>169482.298958</td>\n",
       "    </tr>\n",
       "    <tr>\n",
       "      <th>3298</th>\n",
       "      <td>4834</td>\n",
       "      <td>213257.963216</td>\n",
       "    </tr>\n",
       "    <tr>\n",
       "      <th>2841</th>\n",
       "      <td>7319</td>\n",
       "      <td>147338.982192</td>\n",
       "    </tr>\n",
       "    <tr>\n",
       "      <th>4004</th>\n",
       "      <td>6675</td>\n",
       "      <td>215259.302648</td>\n",
       "    </tr>\n",
       "    <tr>\n",
       "      <th>4094</th>\n",
       "      <td>4637</td>\n",
       "      <td>442305.939008</td>\n",
       "    </tr>\n",
       "    <tr>\n",
       "      <th>2006</th>\n",
       "      <td>9778</td>\n",
       "      <td>134715.317428</td>\n",
       "    </tr>\n",
       "    <tr>\n",
       "      <th>3520</th>\n",
       "      <td>6661</td>\n",
       "      <td>108275.097611</td>\n",
       "    </tr>\n",
       "    <tr>\n",
       "      <th>3355</th>\n",
       "      <td>4135</td>\n",
       "      <td>113180.350336</td>\n",
       "    </tr>\n",
       "    <tr>\n",
       "      <th>4706</th>\n",
       "      <td>9924</td>\n",
       "      <td>230495.218872</td>\n",
       "    </tr>\n",
       "    <tr>\n",
       "      <th>1015</th>\n",
       "      <td>6663</td>\n",
       "      <td>180918.010389</td>\n",
       "    </tr>\n",
       "    <tr>\n",
       "      <th>2474</th>\n",
       "      <td>14316</td>\n",
       "      <td>182267.259084</td>\n",
       "    </tr>\n",
       "    <tr>\n",
       "      <th>4821</th>\n",
       "      <td>4475</td>\n",
       "      <td>162206.052775</td>\n",
       "    </tr>\n",
       "    <tr>\n",
       "      <th>2546</th>\n",
       "      <td>14681</td>\n",
       "      <td>208877.822096</td>\n",
       "    </tr>\n",
       "    <tr>\n",
       "      <th>37</th>\n",
       "      <td>4176</td>\n",
       "      <td>181743.966301</td>\n",
       "    </tr>\n",
       "    <tr>\n",
       "      <th>2670</th>\n",
       "      <td>15254</td>\n",
       "      <td>206173.425423</td>\n",
       "    </tr>\n",
       "  </tbody>\n",
       "</table>\n",
       "</div>"
      ],
      "text/plain": [
       "         Id          Price\n",
       "4561   4836  243553.116039\n",
       "2231   6456  183360.282732\n",
       "2897  11838  102509.287331\n",
       "514   11567  307249.510099\n",
       "2831   6607  142041.453228\n",
       "4739   3260  169482.298958\n",
       "3298   4834  213257.963216\n",
       "2841   7319  147338.982192\n",
       "4004   6675  215259.302648\n",
       "4094   4637  442305.939008\n",
       "2006   9778  134715.317428\n",
       "3520   6661  108275.097611\n",
       "3355   4135  113180.350336\n",
       "4706   9924  230495.218872\n",
       "1015   6663  180918.010389\n",
       "2474  14316  182267.259084\n",
       "4821   4475  162206.052775\n",
       "2546  14681  208877.822096\n",
       "37     4176  181743.966301\n",
       "2670  15254  206173.425423"
      ]
     },
     "execution_count": 24,
     "metadata": {},
     "output_type": "execute_result"
    }
   ],
   "source": [
    "# Предсказание \n",
    "X_test = pd.get_dummies(X_final)\n",
    "X_test.drop(\"Id\", axis=1, inplace=True)\n",
    "X_final[\"Price\"] = model.predict(X_test)\n",
    "X_final.loc[:, ['Id', 'Price']].to_csv('predictionsVR.csv', index=False)\n",
    "X_final.loc[:, ['Id', 'Price']].head(20)"
   ]
  },
  {
   "cell_type": "code",
   "execution_count": null,
   "metadata": {
    "papermill": {
     "duration": 0.047451,
     "end_time": "2020-08-16T16:32:35.709013",
     "exception": false,
     "start_time": "2020-08-16T16:32:35.661562",
     "status": "completed"
    },
    "tags": []
   },
   "outputs": [],
   "source": []
  },
  {
   "cell_type": "code",
   "execution_count": null,
   "metadata": {
    "papermill": {
     "duration": 0.046298,
     "end_time": "2020-08-16T16:32:35.803596",
     "exception": false,
     "start_time": "2020-08-16T16:32:35.757298",
     "status": "completed"
    },
    "tags": []
   },
   "outputs": [],
   "source": []
  },
  {
   "cell_type": "code",
   "execution_count": null,
   "metadata": {
    "papermill": {
     "duration": 0.047061,
     "end_time": "2020-08-16T16:32:35.898060",
     "exception": false,
     "start_time": "2020-08-16T16:32:35.850999",
     "status": "completed"
    },
    "tags": []
   },
   "outputs": [],
   "source": []
  },
  {
   "cell_type": "code",
   "execution_count": null,
   "metadata": {
    "papermill": {
     "duration": 0.047767,
     "end_time": "2020-08-16T16:32:35.993466",
     "exception": false,
     "start_time": "2020-08-16T16:32:35.945699",
     "status": "completed"
    },
    "tags": []
   },
   "outputs": [],
   "source": []
  },
  {
   "cell_type": "code",
   "execution_count": null,
   "metadata": {
    "papermill": {
     "duration": 0.046688,
     "end_time": "2020-08-16T16:32:36.087583",
     "exception": false,
     "start_time": "2020-08-16T16:32:36.040895",
     "status": "completed"
    },
    "tags": []
   },
   "outputs": [],
   "source": []
  },
  {
   "cell_type": "code",
   "execution_count": null,
   "metadata": {
    "papermill": {
     "duration": 0.047845,
     "end_time": "2020-08-16T16:32:36.183066",
     "exception": false,
     "start_time": "2020-08-16T16:32:36.135221",
     "status": "completed"
    },
    "tags": []
   },
   "outputs": [],
   "source": []
  },
  {
   "cell_type": "code",
   "execution_count": null,
   "metadata": {
    "papermill": {
     "duration": 0.046761,
     "end_time": "2020-08-16T16:32:36.276993",
     "exception": false,
     "start_time": "2020-08-16T16:32:36.230232",
     "status": "completed"
    },
    "tags": []
   },
   "outputs": [],
   "source": []
  },
  {
   "cell_type": "code",
   "execution_count": null,
   "metadata": {
    "papermill": {
     "duration": 0.048056,
     "end_time": "2020-08-16T16:32:36.372021",
     "exception": false,
     "start_time": "2020-08-16T16:32:36.323965",
     "status": "completed"
    },
    "tags": []
   },
   "outputs": [],
   "source": []
  },
  {
   "cell_type": "code",
   "execution_count": null,
   "metadata": {
    "papermill": {
     "duration": 0.046781,
     "end_time": "2020-08-16T16:32:36.466504",
     "exception": false,
     "start_time": "2020-08-16T16:32:36.419723",
     "status": "completed"
    },
    "tags": []
   },
   "outputs": [],
   "source": []
  },
  {
   "cell_type": "code",
   "execution_count": null,
   "metadata": {
    "papermill": {
     "duration": 0.046917,
     "end_time": "2020-08-16T16:32:36.560696",
     "exception": false,
     "start_time": "2020-08-16T16:32:36.513779",
     "status": "completed"
    },
    "tags": []
   },
   "outputs": [],
   "source": []
  },
  {
   "cell_type": "code",
   "execution_count": null,
   "metadata": {
    "papermill": {
     "duration": 0.046453,
     "end_time": "2020-08-16T16:32:36.654297",
     "exception": false,
     "start_time": "2020-08-16T16:32:36.607844",
     "status": "completed"
    },
    "tags": []
   },
   "outputs": [],
   "source": []
  },
  {
   "cell_type": "code",
   "execution_count": null,
   "metadata": {
    "papermill": {
     "duration": 0.046257,
     "end_time": "2020-08-16T16:32:36.756014",
     "exception": false,
     "start_time": "2020-08-16T16:32:36.709757",
     "status": "completed"
    },
    "tags": []
   },
   "outputs": [],
   "source": []
  },
  {
   "cell_type": "code",
   "execution_count": null,
   "metadata": {
    "papermill": {
     "duration": 0.04673,
     "end_time": "2020-08-16T16:32:36.849708",
     "exception": false,
     "start_time": "2020-08-16T16:32:36.802978",
     "status": "completed"
    },
    "tags": []
   },
   "outputs": [],
   "source": []
  },
  {
   "cell_type": "code",
   "execution_count": null,
   "metadata": {
    "papermill": {
     "duration": 0.046848,
     "end_time": "2020-08-16T16:32:36.943677",
     "exception": false,
     "start_time": "2020-08-16T16:32:36.896829",
     "status": "completed"
    },
    "tags": []
   },
   "outputs": [],
   "source": []
  },
  {
   "cell_type": "code",
   "execution_count": null,
   "metadata": {
    "papermill": {
     "duration": 0.047613,
     "end_time": "2020-08-16T16:32:37.039142",
     "exception": false,
     "start_time": "2020-08-16T16:32:36.991529",
     "status": "completed"
    },
    "tags": []
   },
   "outputs": [],
   "source": []
  },
  {
   "cell_type": "code",
   "execution_count": null,
   "metadata": {
    "papermill": {
     "duration": 0.046563,
     "end_time": "2020-08-16T16:32:37.132818",
     "exception": false,
     "start_time": "2020-08-16T16:32:37.086255",
     "status": "completed"
    },
    "tags": []
   },
   "outputs": [],
   "source": []
  },
  {
   "cell_type": "code",
   "execution_count": null,
   "metadata": {
    "papermill": {
     "duration": 0.046643,
     "end_time": "2020-08-16T16:32:37.228432",
     "exception": false,
     "start_time": "2020-08-16T16:32:37.181789",
     "status": "completed"
    },
    "tags": []
   },
   "outputs": [],
   "source": []
  },
  {
   "cell_type": "code",
   "execution_count": null,
   "metadata": {
    "papermill": {
     "duration": 0.046563,
     "end_time": "2020-08-16T16:32:37.322705",
     "exception": false,
     "start_time": "2020-08-16T16:32:37.276142",
     "status": "completed"
    },
    "tags": []
   },
   "outputs": [],
   "source": []
  }
 ],
 "metadata": {
  "kernelspec": {
   "display_name": "Python 3",
   "language": "python",
   "name": "python3"
  },
  "language_info": {
   "codemirror_mode": {
    "name": "ipython",
    "version": 3
   },
   "file_extension": ".py",
   "mimetype": "text/x-python",
   "name": "python",
   "nbconvert_exporter": "python",
   "pygments_lexer": "ipython3",
   "version": "3.7.6"
  },
  "papermill": {
   "duration": 120.959274,
   "end_time": "2020-08-16T16:32:38.415733",
   "environment_variables": {},
   "exception": null,
   "input_path": "__notebook__.ipynb",
   "output_path": "__notebook__.ipynb",
   "parameters": {},
   "start_time": "2020-08-16T16:30:37.456459",
   "version": "2.1.0"
  }
 },
 "nbformat": 4,
 "nbformat_minor": 4
}
